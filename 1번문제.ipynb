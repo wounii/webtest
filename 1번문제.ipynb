[가장 비싼 주문에서 item이 총 몇개 팔렸는지 구하기]
10
# 가장 비싼 주문에서 item이 총 몇개 팔렸는지를 계산합니다.
chipo.groupby('order_id').sum().sort_values(by='item_price', ascending=False)[:10]
C:\Users\U109-31\AppData\Local\Temp\ipykernel_14500\2152905450.py:2: FutureWarning: The default value of numeric_only in DataFrameGroupBy.sum is deprecated. In a future version, numeric_only will default to False. Either specify numeric_only or select only columns which should be valid for the function.
  chipo.groupby('order_id').sum().sort_values(by='item_price', ascending=False)[:10]
quantity	item_price
order_id		
926	23	205.25
1443	35	160.74
1483	14	139.00
691	11	118.25
1786	20	114.30
205	12	109.90
511	17	104.59
491	10	102.00
1449	11	95.39
759	18	86.30
